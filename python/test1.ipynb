{
 "cells": [
  {
   "cell_type": "code",
   "execution_count": 1,
   "metadata": {},
   "outputs": [],
   "source": [
    "import os\n",
    "from openai import OpenAI\n",
    "\n",
    "client = OpenAI(\n",
    "    # This is the default and can be omitted\n",
    "    api_key=os.environ.get(\"OPENAI_API_KEY\"),\n",
    ")\n",
    "#print(client.api_key)"
   ]
  },
  {
   "cell_type": "code",
   "execution_count": 2,
   "metadata": {},
   "outputs": [],
   "source": [
    "def new_completion(user_message,system_message, model=\"gpt-3.5-turbo\"):\n",
    "    chat_completion = client.chat.completions.create(\n",
    "        messages=[\n",
    "            {\"role\": \"system\", \"content\": user_message},\n",
    "            {\"role\": \"user\", \"content\": system_message},           \n",
    "        ],\n",
    "        model=model,\n",
    "    )\n",
    "    return chat_completion.choices[0].message.content"
   ]
  },
  {
   "cell_type": "code",
   "execution_count": null,
   "metadata": {},
   "outputs": [],
   "source": [
    "system_message = \"你是一个专业的客服,专业是售卖SSD硬盘\"\n",
    "user_message = \"你们主要卖什么产品\"\n",
    "response = new_completion(user_message,system_message)\n",
    "\n",
    "print(response)"
   ]
  },
  {
   "cell_type": "code",
   "execution_count": null,
   "metadata": {},
   "outputs": [],
   "source": [
    "produce_sheet = \"SCY C5000 M.2 PCIe 2280 SSD which adopts IG5220 SSD controller and YMTC X2-9060 \\\n",
    "3D TLC Nand Flash is NVM Express SSD, it is designed as the standard M.2 2280 form\\\n",
    "factor with PCIe interface. It supports PCIe Gen 4x4 and compliant with NVMe 1.4 protocol\\\n",
    "providing excellent performance. With sophisticated error detection and correction (LDPC ECC) functions, the C5000 M.2\\\n",
    "PCIe 2280 SSD can ensure full End-to-End data path protection that secures the data\\\n",
    "transmission between host system and NAND Flash. Additionally, the PCIe SSD with\\\n",
    "heat-spreading design dissipate heat generating from IC making SSD perform more steady. The C5000 M.2 PCIe 2280 SSD delivers high performance up to 5000MB/s but low power\\\n",
    "consumption, which is capable of maximum capacity up to 2TB. With it effectively reduces\\\n",
    "the booting time of operation system and consumes less power than hard disk drive (HDD), making the SSD not only as PC’s ideal drives for work and pleasure, but also can be\\\n",
    "configured as a boot device for embedded system.\"\n",
    "\n",
    "system_message = f\"\"\"你的任务是成为一个友好且专业的客服,\n",
    "                主要帮助前来咨询的客户准确推荐给他们想要的产品,\n",
    "                并输出该产品的详细信息,特别是客户主要关注的参数,\n",
    "                我们公司主要是售卖产品是SSD硬盘,\n",
    "                请根据我们的产品介绍书，根据信息编写产品描述,介绍书内容在三重单引号里,\n",
    "\n",
    "                该描述适用于采购商，所以应该是专注产品的设计方案和性能特点,\n",
    "                在描述之后，加上一个包括该产品的各项性能参数的表格,该表标题命名为\"产品参数\",表格里应该有两列,\n",
    "                第一列应该是各项信息的名称,比如:产品ID、主控、颗粒、最高容量、最高速度、接口、支持总线、协议、长度\n",
    "                第二列里是上一列各个信息一一对应的信息,\n",
    "                \n",
    "                将所有内容格式化为一份美观的HTML格式,可以直接用网站打开,\n",
    "                将描述放置在<div>元素里面,\n",
    "                产品说明:'''{produce_sheet}'''\n",
    "                \"\"\"\n",
    "user_message = \"我想买一个PCIE4.0的SSD.\"\n",
    "response = new_completion(user_message,system_message)\n",
    "print(response)"
   ]
  },
  {
   "cell_type": "code",
   "execution_count": 18,
   "metadata": {},
   "outputs": [
    {
     "data": {
      "text/html": [
       "<!DOCTYPE html>\n",
       "<html>\n",
       "<head>\n",
       "  <title>PCIE 4.0 SSD Product Description</title>\n",
       "</head>\n",
       "<body>\n",
       "  <div>\n",
       "    <h2>产品描述</h2>\n",
       "    <p>SCY C5000 M.2 PCIe 2280 SSD采用IG5220 SSD控制器和YMTC X2-9060 3D TLC Nand Flash，属于NVM Express SSD，设计为标准的M.2 2280形态，使用PCIe接口。它支持PCIe Gen 4x4，并符合NVMe 1.4协议，提供出色的性能。通过先进的错误检测和纠正功能(LDPC ECC)，C5000 M.2 PCIe 2280 SSD可以保证完整的端到端数据路径保护，确保主机系统与NAND Flash之间的数据传输安全。此外，具有散热设计的PCIe SSD可以散发IC产生的热量，使SSD性能更加稳定。C5000 M.2 PCIe 2280 SSD提供高达5000MB/s的高性能，同时功耗低，最大容量可达2TB。有效地缩短操作系统的启动时间，比传统硬盘驱动器(HDD)消耗更少功耗，使SSD不仅成为PC工作和娱乐的理想驱动器，还可配置为嵌入式系统的引导设备。</p>\n",
       "  </div>\n",
       "  \n",
       "  <h2>产品参数</h2>\n",
       "  <table>\n",
       "    <tr>\n",
       "      <td>产品ID</td>\n",
       "      <td>SCY C5000</td>\n",
       "    </tr>\n",
       "    <tr>\n",
       "      <td>主控</td>\n",
       "      <td>IG5220 SSD控制器</td>\n",
       "    </tr>\n",
       "    <tr>\n",
       "      <td>颗粒</td>\n",
       "      <td>YMTC X2-9060 3D TLC Nand Flash</td>\n",
       "    </tr>\n",
       "    <tr>\n",
       "      <td>最高容量</td>\n",
       "      <td>2TB</td>\n",
       "    </tr>\n",
       "    <tr>\n",
       "      <td>最高速度</td>\n",
       "      <td>5000MB/s</td>\n",
       "    </tr>\n",
       "    <tr>\n",
       "      <td>接口</td>\n",
       "      <td>PCIe</td>\n",
       "    </tr>\n",
       "    <tr>\n",
       "      <td>支持总线</td>\n",
       "      <td>PCIe Gen 4x4</td>\n",
       "    </tr>\n",
       "    <tr>\n",
       "      <td>协议</td>\n",
       "      <td>NVMe 1.4</td>\n",
       "    </tr>\n",
       "    <tr>\n",
       "      <td>长度</td>\n",
       "      <td>M.2 2280</td>\n",
       "    </tr>\n",
       "  </table>\n",
       "</body>\n",
       "</html>\n"
      ],
      "text/plain": [
       "<IPython.core.display.HTML object>"
      ]
     },
     "metadata": {},
     "output_type": "display_data"
    }
   ],
   "source": [
    "from IPython.display import display, HTML\n",
    "\n",
    "display(HTML(response))"
   ]
  }
 ],
 "metadata": {
  "kernelspec": {
   "display_name": "base",
   "language": "python",
   "name": "python3"
  },
  "language_info": {
   "codemirror_mode": {
    "name": "ipython",
    "version": 3
   },
   "file_extension": ".py",
   "mimetype": "text/x-python",
   "name": "python",
   "nbconvert_exporter": "python",
   "pygments_lexer": "ipython3",
   "version": "3.12.1"
  }
 },
 "nbformat": 4,
 "nbformat_minor": 2
}
